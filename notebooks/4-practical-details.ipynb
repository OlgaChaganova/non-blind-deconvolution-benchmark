{
 "cells": [
  {
   "cell_type": "code",
   "execution_count": 1,
   "id": "28a690b8",
   "metadata": {},
   "outputs": [],
   "source": [
    "import sys\n",
    "sys.path.append('../src')\n",
    "\n",
    "import typing as tp\n",
    "from copy import copy\n",
    "\n",
    "import numpy as np\n",
    "import matplotlib.pyplot as plt\n",
    "import torch\n",
    "from omegaconf import OmegaConf\n",
    "\n",
    "from deconv.classic.wiener.wiener import wiener_gray\n",
    "from deconv.neural.usrnet.predictor import USRNetPredictor\n",
    "from deconv.neural.dwdn.predictor import DWDNPredictor\n",
    "from deconv.neural.kerunc.predictor import KerUncPredictor\n",
    "from services.tester import MainTester\n",
    "\n",
    "\n",
    "np.random.seed(8)"
   ]
  },
  {
   "cell_type": "code",
   "execution_count": 2,
   "id": "a222a609",
   "metadata": {},
   "outputs": [],
   "source": [
    "import warnings\n",
    "warnings.filterwarnings('ignore', category=UserWarning)"
   ]
  },
  {
   "cell_type": "markdown",
   "id": "885d15b7",
   "metadata": {},
   "source": [
    "## 1 Скорость работы"
   ]
  },
  {
   "cell_type": "code",
   "execution_count": 3,
   "id": "c4a1d560",
   "metadata": {},
   "outputs": [],
   "source": [
    "NOISE_MU = 0\n",
    "NOISE_STD = 0.01\n",
    "IMAGE_SIZE = 256"
   ]
  },
  {
   "cell_type": "code",
   "execution_count": 17,
   "id": "745cd2a9",
   "metadata": {},
   "outputs": [],
   "source": [
    "images, psf = MainTester.get_data(\n",
    "    image_path='../datasets/gt/precomp/city/01 (43).jpg',\n",
    "    psf_path='../datasets/kernels/motion-blur/processed/synthetic/synthetic-18.npy',\n",
    "    image_size=IMAGE_SIZE,\n",
    "    noise_mu=NOISE_MU,\n",
    "    noise_std=NOISE_STD,\n",
    ")\n",
    "\n",
    "_, psf_big = MainTester.get_data(\n",
    "    image_path='../datasets/gt/precomp/city/01 (43).jpg',\n",
    "    psf_path='../datasets/kernels/eye-psf/processed/synthetic/big-psf-1.npy',\n",
    "    image_size=IMAGE_SIZE,\n",
    "    noise_mu=NOISE_MU,\n",
    "    noise_std=NOISE_STD,\n",
    ")"
   ]
  },
  {
   "cell_type": "code",
   "execution_count": 18,
   "id": "07382619",
   "metadata": {},
   "outputs": [
    {
     "data": {
      "text/plain": [
       "((256, 256), (41, 41), (256, 256))"
      ]
     },
     "execution_count": 18,
     "metadata": {},
     "output_type": "execute_result"
    }
   ],
   "source": [
    "blurred_1d = images['linrgb_float']['blurred_no_noise']['1d']\n",
    "blurred_3d = images['linrgb_float']['blurred_no_noise']['3d']\n",
    "blurred_1d.shape, psf.shape, psf_big.shape"
   ]
  },
  {
   "cell_type": "markdown",
   "id": "25d80116",
   "metadata": {},
   "source": [
    "### **CPU:**"
   ]
  },
  {
   "cell_type": "code",
   "execution_count": 20,
   "id": "1b6d6045",
   "metadata": {},
   "outputs": [],
   "source": [
    "config_gpu = OmegaConf.load('../configs/config_viz.yml')\n",
    "cm = config_gpu.models\n",
    "cd = config_gpu.dataset\n",
    "\n",
    "models = dict()\n",
    "\n",
    "models['wiener'] = dict()\n",
    "models['wiener']['noise'] = lambda image, psf: wiener_gray(image, psf, **cm.wiener_nonblind_noise.noise_params)\n",
    "models['wiener']['no_noise'] = lambda image, psf: wiener_gray(image, psf, **cm.wiener_nonblind_noise.no_noise_params)\n",
    "\n",
    "models['kerunc'] = dict()\n",
    "models['kerunc']['noise'] = KerUncPredictor(**cm.kerunc.noise_params)\n",
    "models['kerunc']['no_noise'] = KerUncPredictor(**cm.kerunc.no_noise_params)\n",
    "\n",
    "models['usrnet'] = dict()\n",
    "models['usrnet']['noise'] = USRNetPredictor(model_path=cm.usrnet.model_path, **cm.usrnet.noise_params)\n",
    "models['usrnet']['no_noise'] = USRNetPredictor(model_path=cm.usrnet.model_path, **cm.usrnet.no_noise_params)\n",
    "\n",
    "models['dwdn'] = dict()\n",
    "models['dwdn']['noise'] = DWDNPredictor(model_path=cm.dwdn.model_path, **cm.dwdn.noise_params)\n",
    "models['dwdn']['no_noise'] = DWDNPredictor(model_path=cm.dwdn.model_path, **cm.dwdn.no_noise_params)\n"
   ]
  },
  {
   "cell_type": "code",
   "execution_count": 21,
   "id": "a4504fea",
   "metadata": {},
   "outputs": [],
   "source": [
    "wiener = models['wiener']['noise']\n",
    "dwdn = models['dwdn']['noise']\n",
    "kerunc = models['kerunc']['noise']\n",
    "usrnet = models['usrnet']['noise']"
   ]
  },
  {
   "cell_type": "markdown",
   "id": "bd103c19",
   "metadata": {},
   "source": [
    "#### PSF 41x41"
   ]
  },
  {
   "cell_type": "code",
   "execution_count": 8,
   "id": "04210911",
   "metadata": {},
   "outputs": [
    {
     "name": "stdout",
     "output_type": "stream",
     "text": [
      "2.71 ms ± 65.8 µs per loop (mean ± std. dev. of 3 runs, 10 loops each)\n"
     ]
    }
   ],
   "source": [
    "%timeit -n 10 -r 3 wiener(blurred_1d, psf)"
   ]
  },
  {
   "cell_type": "code",
   "execution_count": 9,
   "id": "d8a53137",
   "metadata": {},
   "outputs": [
    {
     "name": "stdout",
     "output_type": "stream",
     "text": [
      "1.87 s ± 8.84 ms per loop (mean ± std. dev. of 3 runs, 10 loops each)\n"
     ]
    }
   ],
   "source": [
    "%timeit -n 10 -r 3 kerunc(blurred_1d, psf)"
   ]
  },
  {
   "cell_type": "code",
   "execution_count": 10,
   "id": "efec1f5e",
   "metadata": {},
   "outputs": [
    {
     "name": "stdout",
     "output_type": "stream",
     "text": [
      "3.14 s ± 18.8 ms per loop (mean ± std. dev. of 3 runs, 10 loops each)\n"
     ]
    }
   ],
   "source": [
    "%timeit -n 10 -r 3 dwdn(blurred_3d, psf)"
   ]
  },
  {
   "cell_type": "code",
   "execution_count": 11,
   "id": "4dd67c41",
   "metadata": {
    "scrolled": true
   },
   "outputs": [
    {
     "name": "stdout",
     "output_type": "stream",
     "text": [
      "2.2 s ± 5.86 ms per loop (mean ± std. dev. of 3 runs, 10 loops each)\n"
     ]
    }
   ],
   "source": [
    "%timeit -n 10 -r 3 usrnet(blurred_3d, psf)"
   ]
  },
  {
   "cell_type": "markdown",
   "id": "90ddcacd",
   "metadata": {},
   "source": [
    "#### PSF 256x256"
   ]
  },
  {
   "cell_type": "code",
   "execution_count": 22,
   "id": "9f5e09d2",
   "metadata": {},
   "outputs": [
    {
     "name": "stdout",
     "output_type": "stream",
     "text": [
      "58.2 ms ± 0 ns per loop (mean ± std. dev. of 1 run, 1 loop each)\n"
     ]
    }
   ],
   "source": [
    "%timeit -n 1 -r 1 wiener(blurred_1d, psf_big)"
   ]
  },
  {
   "cell_type": "code",
   "execution_count": 23,
   "id": "dac92251",
   "metadata": {},
   "outputs": [
    {
     "name": "stdout",
     "output_type": "stream",
     "text": [
      "1.77 s ± 0 ns per loop (mean ± std. dev. of 1 run, 1 loop each)\n"
     ]
    }
   ],
   "source": [
    "%timeit -n 1 -r 1 kerunc(blurred_1d, psf_big)"
   ]
  },
  {
   "cell_type": "code",
   "execution_count": 26,
   "id": "95e17086",
   "metadata": {},
   "outputs": [
    {
     "name": "stdout",
     "output_type": "stream",
     "text": [
      "14.6 s ± 0 ns per loop (mean ± std. dev. of 1 run, 1 loop each)\n"
     ]
    }
   ],
   "source": [
    "%timeit -n 1 -r 1 dwdn(blurred_3d, psf_big)"
   ]
  },
  {
   "cell_type": "code",
   "execution_count": 25,
   "id": "65f880f8",
   "metadata": {},
   "outputs": [
    {
     "name": "stdout",
     "output_type": "stream",
     "text": [
      "2.23 s ± 0 ns per loop (mean ± std. dev. of 1 run, 1 loop each)\n"
     ]
    }
   ],
   "source": [
    "%timeit -n 1 -r 1 usrnet(blurred_3d, psf_big)"
   ]
  },
  {
   "cell_type": "markdown",
   "id": "d2cb8d25",
   "metadata": {},
   "source": [
    "### **GPU:**"
   ]
  },
  {
   "cell_type": "code",
   "execution_count": 27,
   "id": "a6090eeb",
   "metadata": {},
   "outputs": [],
   "source": [
    "config_gpu = OmegaConf.load('../configs/config_viz_cuda.yml')\n",
    "cm = config_gpu.models\n",
    "cd = config_gpu.dataset\n",
    "\n",
    "models_gpu = dict()\n",
    "\n",
    "models_gpu['kerunc'] = dict()\n",
    "models_gpu['kerunc']['noise'] = KerUncPredictor(**cm.kerunc.noise_params)\n",
    "models_gpu['kerunc']['no_noise'] = KerUncPredictor(**cm.kerunc.no_noise_params)\n",
    "\n",
    "models_gpu['usrnet'] = dict()\n",
    "models_gpu['usrnet']['noise'] = USRNetPredictor(model_path=cm.usrnet.model_path, **cm.usrnet.noise_params)\n",
    "models_gpu['usrnet']['no_noise'] = USRNetPredictor(model_path=cm.usrnet.model_path, **cm.usrnet.no_noise_params)\n",
    "\n",
    "models_gpu['dwdn'] = dict()\n",
    "models_gpu['dwdn']['noise'] = DWDNPredictor(model_path=cm.dwdn.model_path, **cm.dwdn.noise_params)\n",
    "models_gpu['dwdn']['no_noise'] = DWDNPredictor(model_path=cm.dwdn.model_path, **cm.dwdn.no_noise_params)\n"
   ]
  },
  {
   "cell_type": "code",
   "execution_count": 28,
   "id": "3ea24aa9",
   "metadata": {},
   "outputs": [],
   "source": [
    "dwdn   = models_gpu['dwdn']['noise']\n",
    "kerunc = models_gpu['kerunc']['noise']\n",
    "usrnet = models_gpu['usrnet']['noise']"
   ]
  },
  {
   "cell_type": "markdown",
   "id": "ffca2e4b",
   "metadata": {},
   "source": [
    "#### PSF 41x41"
   ]
  },
  {
   "cell_type": "code",
   "execution_count": 14,
   "id": "fae3a202",
   "metadata": {},
   "outputs": [
    {
     "name": "stdout",
     "output_type": "stream",
     "text": [
      "108 ms ± 21.1 ms per loop (mean ± std. dev. of 3 runs, 10 loops each)\n"
     ]
    }
   ],
   "source": [
    "%timeit -n 10 -r 3 kerunc(blurred_1d, psf)"
   ]
  },
  {
   "cell_type": "code",
   "execution_count": 15,
   "id": "b8b243bc",
   "metadata": {},
   "outputs": [
    {
     "name": "stdout",
     "output_type": "stream",
     "text": [
      "51.4 ms ± 429 µs per loop (mean ± std. dev. of 3 runs, 10 loops each)\n"
     ]
    }
   ],
   "source": [
    "%timeit -n 10 -r 3 dwdn(blurred_3d, psf)"
   ]
  },
  {
   "cell_type": "code",
   "execution_count": 16,
   "id": "0e0c6b1b",
   "metadata": {},
   "outputs": [
    {
     "name": "stdout",
     "output_type": "stream",
     "text": [
      "77.2 ms ± 145 µs per loop (mean ± std. dev. of 3 runs, 10 loops each)\n"
     ]
    }
   ],
   "source": [
    "%timeit -n 10 -r 3 usrnet(blurred_3d, psf)"
   ]
  },
  {
   "cell_type": "markdown",
   "id": "8c266215",
   "metadata": {},
   "source": [
    "#### PSF 256x256"
   ]
  },
  {
   "cell_type": "code",
   "execution_count": 29,
   "id": "656ed608",
   "metadata": {},
   "outputs": [
    {
     "name": "stdout",
     "output_type": "stream",
     "text": [
      "97 ms ± 6.37 ms per loop (mean ± std. dev. of 3 runs, 10 loops each)\n"
     ]
    }
   ],
   "source": [
    "%timeit -n 10 -r 3 kerunc(blurred_1d, psf_big)"
   ]
  },
  {
   "cell_type": "code",
   "execution_count": 30,
   "id": "d202d8e1",
   "metadata": {},
   "outputs": [
    {
     "name": "stdout",
     "output_type": "stream",
     "text": [
      "124 ms ± 556 µs per loop (mean ± std. dev. of 3 runs, 10 loops each)\n"
     ]
    }
   ],
   "source": [
    "%timeit -n 10 -r 3 dwdn(blurred_3d, psf_big)"
   ]
  },
  {
   "cell_type": "code",
   "execution_count": 31,
   "id": "7639971b",
   "metadata": {},
   "outputs": [
    {
     "name": "stdout",
     "output_type": "stream",
     "text": [
      "77.1 ms ± 163 µs per loop (mean ± std. dev. of 3 runs, 10 loops each)\n"
     ]
    }
   ],
   "source": [
    "%timeit -n 10 -r 3 usrnet(blurred_3d, psf_big)"
   ]
  },
  {
   "cell_type": "code",
   "execution_count": null,
   "id": "db476b0b",
   "metadata": {},
   "outputs": [],
   "source": []
  }
 ],
 "metadata": {
  "kernelspec": {
   "display_name": "nbdb-venv",
   "language": "python",
   "name": "nbdb-venv"
  },
  "language_info": {
   "codemirror_mode": {
    "name": "ipython",
    "version": 3
   },
   "file_extension": ".py",
   "mimetype": "text/x-python",
   "name": "python",
   "nbconvert_exporter": "python",
   "pygments_lexer": "ipython3",
   "version": "3.8.5"
  }
 },
 "nbformat": 4,
 "nbformat_minor": 5
}
